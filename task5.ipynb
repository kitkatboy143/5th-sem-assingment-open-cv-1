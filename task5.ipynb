{
 "cells": [
  {
   "cell_type": "code",
   "execution_count": 1,
   "id": "f90e8da9-1013-4f65-96bc-f6f651f1bbf0",
   "metadata": {},
   "outputs": [],
   "source": [
    "import cv2\n",
    "import numpy as np\n",
    "import matplotlib.pyplot as plt"
   ]
  },
  {
   "cell_type": "code",
   "execution_count": 2,
   "id": "e1674a41-9bb2-48a6-8624-b2fe0b3eef4e",
   "metadata": {},
   "outputs": [],
   "source": [
    "vid =cv2.VideoCapture(\"C:\\\\Users\\\\aedpu\\\\Downloads\\\\Venice_5.mp4\")"
   ]
  },
  {
   "cell_type": "code",
   "execution_count": 3,
   "id": "d546b7ea-2c69-427e-8b64-7e78b76f4b65",
   "metadata": {},
   "outputs": [
    {
     "data": {
      "text/plain": [
       "< cv2.VideoCapture 000001CA9B171430>"
      ]
     },
     "execution_count": 3,
     "metadata": {},
     "output_type": "execute_result"
    }
   ],
   "source": [
    "vid"
   ]
  },
  {
   "cell_type": "code",
   "execution_count": null,
   "id": "feb63849-958c-4916-a93d-2f55feeb8228",
   "metadata": {},
   "outputs": [],
   "source": []
  },
  {
   "cell_type": "code",
   "execution_count": 4,
   "id": "c2df4852-c6a8-4822-abf4-8d07fb7e919e",
   "metadata": {},
   "outputs": [
    {
     "name": "stdout",
     "output_type": "stream",
     "text": [
      "True\n"
     ]
    }
   ],
   "source": [
    "print(vid.isOpened())"
   ]
  },
  {
   "cell_type": "code",
   "execution_count": 5,
   "id": "741a68f9-acdd-40a6-8718-6d90b307b72b",
   "metadata": {},
   "outputs": [],
   "source": [
    "while(vid.isOpened()):\n",
    "    ret, frame = vid.read()\n",
    "    \n",
    "    cv2.imshow('video',frame)\n",
    "    if cv2.waitKey(30) & 0xFF == ord('a'):\n",
    "        break\n",
    "        \n",
    "vid.release()\n",
    "cv2.destroyAllWindows()"
   ]
  },
  {
   "cell_type": "code",
   "execution_count": 6,
   "id": "559c1144-629e-4945-b7a2-0f50536c9300",
   "metadata": {},
   "outputs": [],
   "source": [
    "while(vid.isOpened()):\n",
    "    ret, frame = vid.read()\n",
    "    gray = cv2.cvtColor(frame,cv2.COLOR_BGR2GRAY)\n",
    "\n",
    "    sobelX = cv2.Sobel(gary,cv2.CV_64F,1,0)\n",
    "    sobelY = cv2.Sobel(gray,cv2.CV_64F,0,1)\n",
    "\n",
    "    sobelX = np.uint8(np.absolute(sobelX))\n",
    "    sobelY = np.uint8(np.absolute(sobelY))\n",
    "\n",
    "    combind = cv2.bitwise_or(sobelX,sobelY)\n",
    "    \n",
    "    plt.imshow(sobelY)\n",
    "\n",
    "    lab = cv2.Laplacian(gray, cv2.CV_64F,ksize=3)\n",
    "    lab = np.uint8(np.absolute(lab))\n",
    "\n",
    "    combined_edges = cv2.addWeighted(combind, 0.5, lab, 0.5, 0)\n",
    "    \n",
    "    cv2.imshow('Video',frame)\n",
    "    cv2.imshow('Gray',gray)\n",
    "    cv2.imshow('sobelX',sobelX)\n",
    "    cv2.imshow('sobelY',sobelY)\n",
    "    cv2.imshow('comind',combind)\n",
    "    if cv2.waitKey(6) & 0xFF == ord('a'):\n",
    "        break\n",
    "        \n",
    "vid.release()\n",
    "cv2.destroyAllWindows()"
   ]
  },
  {
   "cell_type": "code",
   "execution_count": null,
   "id": "a5cb2bf5-41dc-4ea0-a6ee-1dd3ff096bf3",
   "metadata": {},
   "outputs": [],
   "source": []
  },
  {
   "cell_type": "code",
   "execution_count": null,
   "id": "a0e0f615-4d4f-497e-a1f9-99bfa8480755",
   "metadata": {},
   "outputs": [],
   "source": []
  },
  {
   "cell_type": "code",
   "execution_count": null,
   "id": "40c9b616-82c9-4ff0-80e6-63291fcc34a0",
   "metadata": {},
   "outputs": [],
   "source": []
  },
  {
   "cell_type": "code",
   "execution_count": null,
   "id": "812d9cd5-3875-43d5-b09e-0aa26ee4b418",
   "metadata": {},
   "outputs": [],
   "source": []
  },
  {
   "cell_type": "code",
   "execution_count": null,
   "id": "c9551aa8-754c-484e-a315-fea018785870",
   "metadata": {},
   "outputs": [],
   "source": []
  },
  {
   "cell_type": "code",
   "execution_count": null,
   "id": "b55f37d4-7074-4ae0-9b88-abb5118623af",
   "metadata": {},
   "outputs": [],
   "source": []
  },
  {
   "cell_type": "code",
   "execution_count": null,
   "id": "eda79290-70d1-4cfe-bfd1-0d6491f8b883",
   "metadata": {},
   "outputs": [],
   "source": []
  }
 ],
 "metadata": {
  "kernelspec": {
   "display_name": "Python 3 (ipykernel)",
   "language": "python",
   "name": "python3"
  },
  "language_info": {
   "codemirror_mode": {
    "name": "ipython",
    "version": 3
   },
   "file_extension": ".py",
   "mimetype": "text/x-python",
   "name": "python",
   "nbconvert_exporter": "python",
   "pygments_lexer": "ipython3",
   "version": "3.9.19"
  }
 },
 "nbformat": 4,
 "nbformat_minor": 5
}
