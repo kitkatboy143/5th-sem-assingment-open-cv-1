{
 "cells": [
  {
   "cell_type": "code",
   "execution_count": 1,
   "id": "69deb97f-64eb-4367-9e91-2f4c0e0080f4",
   "metadata": {},
   "outputs": [],
   "source": [
    "import cv2\n",
    "import numpy as np"
   ]
  },
  {
   "cell_type": "code",
   "execution_count": 2,
   "id": "a1420bcf-f02b-4283-a3eb-97e35eb9869d",
   "metadata": {},
   "outputs": [],
   "source": [
    "img1 = cv2.imread(\"C:\\\\Users\\\\aedpu\\\\OneDrive\\\\Documents\\\\Untitled Folder\\\\OIP4.jpeg\")\n",
    "img2 = cv2.imread(\"C:\\\\Users\\\\aedpu\\\\OneDrive\\\\Documents\\\\Untitled Folder\\\\OIP5.jpeg\")\n",
    "cv2.imshow('image1', img1)\n",
    "cv2.imshow('image2',img2)\n",
    "cv2.waitKey(0)\n",
    "cv2.destroyAllWindows()"
   ]
  },
  {
   "cell_type": "code",
   "execution_count": 3,
   "id": "02b2a54a-9b55-4bdb-8aa9-f9b1b05be7ab",
   "metadata": {},
   "outputs": [
    {
     "data": {
      "text/plain": [
       "(234, 295, 3)"
      ]
     },
     "execution_count": 3,
     "metadata": {},
     "output_type": "execute_result"
    }
   ],
   "source": [
    "img1.shape"
   ]
  },
  {
   "cell_type": "code",
   "execution_count": 4,
   "id": "48cc49a5-f0bf-4e90-a747-4c6f35b0c8f3",
   "metadata": {},
   "outputs": [
    {
     "data": {
      "text/plain": [
       "(234, 410, 3)"
      ]
     },
     "execution_count": 4,
     "metadata": {},
     "output_type": "execute_result"
    }
   ],
   "source": [
    "img2.shape"
   ]
  },
  {
   "cell_type": "code",
   "execution_count": 5,
   "id": "cdfd4549-da60-4219-abc0-207a00eb0650",
   "metadata": {},
   "outputs": [],
   "source": [
    "img1=cv2.resize(img1,(700,500))\n",
    "img2=cv2.resize(img2,(700,500))\n"
   ]
  },
  {
   "cell_type": "code",
   "execution_count": 6,
   "id": "6fe3a176-9dcd-4601-b3fa-7b465834017c",
   "metadata": {},
   "outputs": [],
   "source": [
    "added_image=cv2.add(img1,img2)\n",
    "cv2.imshow('added_image',added_image)\n",
    "cv2.waitKey(0)\n",
    "cv2.destroyAllWindows()"
   ]
  },
  {
   "cell_type": "code",
   "execution_count": 7,
   "id": "c8d36c3b-07ff-4ab7-8422-a5bcb888ad28",
   "metadata": {},
   "outputs": [],
   "source": [
    "imAdd =cv2.addWeighted (img1,0.5,img2,0.5,0)\n",
    "cv2.imshow(\"imAdd\", imAdd)\n",
    "cv2.waitKey(0)\n",
    "cv2.destroyAllWindows()"
   ]
  },
  {
   "cell_type": "code",
   "execution_count": 8,
   "id": "27a7943f-5323-4a91-b416-a218285a5b73",
   "metadata": {},
   "outputs": [],
   "source": [
    "bitwise_and= cv2.bitwise_and(img1,img2,mask=None)"
   ]
  },
  {
   "cell_type": "code",
   "execution_count": 9,
   "id": "bff3c5d7-0e82-493c-a04f-88263a16a005",
   "metadata": {},
   "outputs": [],
   "source": [
    "bitwise_or= cv2.bitwise_or(img1,img2,mask=None)"
   ]
  },
  {
   "cell_type": "code",
   "execution_count": 10,
   "id": "fa9a221c-2a64-45ac-9ff8-3b8005700c1b",
   "metadata": {},
   "outputs": [],
   "source": [
    "bitwise_xor= cv2.bitwise_xor(img1,img2,mask=None)"
   ]
  },
  {
   "cell_type": "code",
   "execution_count": 11,
   "id": "56695d94-5aae-4244-b4e6-9eb499b74307",
   "metadata": {},
   "outputs": [],
   "source": [
    "cv2.imshow('img1', img1)\n",
    "cv2.imshow('img2', img2)\n",
    "cv2.imshow('bitwise_and',bitwise_and)\n",
    "cv2.imshow('bitwise_or',bitwise_or)\n",
    "cv2.imshow('bitwise_xor',bitwise_xor)\n",
    "cv2.waitKey(0)\n",
    "cv2.destroyAllWindows()"
   ]
  },
  {
   "cell_type": "code",
   "execution_count": 12,
   "id": "0aecf8de-6dbc-4bdc-87f7-8c00c2753fde",
   "metadata": {},
   "outputs": [
    {
     "name": "stdout",
     "output_type": "stream",
     "text": [
      "(234, 295, 3)\n",
      "(234, 410, 3)\n",
      "234\n",
      "410\n"
     ]
    }
   ],
   "source": [
    "img1 =cv2.imread(\"C:\\\\Users\\\\aedpu\\\\OneDrive\\\\Documents\\\\Untitled Folder\\\\OIP4.jpeg\")\n",
    "img2 =cv2.imread(\"C:\\\\Users\\\\aedpu\\\\OneDrive\\\\Documents\\\\Untitled Folder\\\\OIP5.jpeg\")\n",
    "shp1=img1.shape\n",
    "shp2=img2.shape\n",
    "print(shp1)\n",
    "print(shp2)\n",
    "height,width=img1.shape[:2]\n",
    "height,width=img2.shape[:2]\n",
    "print(height)\n",
    "print(width)"
   ]
  },
  {
   "cell_type": "code",
   "execution_count": 13,
   "id": "78ad9f83-efc5-40b1-9366-079994ace1cc",
   "metadata": {},
   "outputs": [
    {
     "name": "stdout",
     "output_type": "stream",
     "text": [
      "(117.0, 205.0)\n"
     ]
    }
   ],
   "source": [
    "center = (height/2,width/2)\n",
    "print(center)"
   ]
  },
  {
   "cell_type": "code",
   "execution_count": 14,
   "id": "242a806e-8471-4c73-b74d-20376b790b14",
   "metadata": {},
   "outputs": [
    {
     "name": "stdout",
     "output_type": "stream",
     "text": [
      "[[ 6.123234e-17  1.000000e+00 -8.800000e+01]\n",
      " [-1.000000e+00  6.123234e-17  3.220000e+02]]\n"
     ]
    }
   ],
   "source": [
    "rotate_matrix =cv2.getRotationMatrix2D(center=center, angle=90,scale=1.0)\n",
    "print(rotate_matrix)"
   ]
  },
  {
   "cell_type": "code",
   "execution_count": 17,
   "id": "34a39c4a-2687-4c18-981b-271ea7488445",
   "metadata": {},
   "outputs": [],
   "source": [
    "rotate_image1 = cv2.warpAffine(src=img1,M=rotate_matrix,dsize=(width,height))\n",
    "rotate_image2 = cv2.warpAffine(src=img2,M=rotate_matrix,dsize=(width,height))\n",
    "\n",
    "cv2.imshow(\"original_image\", img1)\n",
    "cv2.imshow(\"original_image\", img2)\n",
    "cv2.waitKey(0)\n",
    "cv2.imshow(\"Rotated_image\", rotate_image1)\n",
    "cv2.imshow(\"Rotated image2\", rotate_image2)\n",
    "cv2.waitKey(0)\n",
    "cv2.destroyAllWindows()"
   ]
  },
  {
   "cell_type": "code",
   "execution_count": null,
   "id": "19b4ee5b-9c90-44e3-ba75-16b6d9d1dfce",
   "metadata": {},
   "outputs": [],
   "source": []
  }
 ],
 "metadata": {
  "kernelspec": {
   "display_name": "Python 3 (ipykernel)",
   "language": "python",
   "name": "python3"
  },
  "language_info": {
   "codemirror_mode": {
    "name": "ipython",
    "version": 3
   },
   "file_extension": ".py",
   "mimetype": "text/x-python",
   "name": "python",
   "nbconvert_exporter": "python",
   "pygments_lexer": "ipython3",
   "version": "3.9.19"
  }
 },
 "nbformat": 4,
 "nbformat_minor": 5
}
