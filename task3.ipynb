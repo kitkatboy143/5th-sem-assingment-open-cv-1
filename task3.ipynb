{
 "cells": [
  {
   "cell_type": "code",
   "execution_count": 17,
   "id": "0e10e9cf-bd75-4f7d-862b-acc163b637b1",
   "metadata": {},
   "outputs": [],
   "source": [
    "import cv2\n",
    "import numpy as np"
   ]
  },
  {
   "cell_type": "code",
   "execution_count": 18,
   "id": "3bc10f47-39a4-482e-be96-fea972fc6fce",
   "metadata": {},
   "outputs": [],
   "source": [
    "img = cv2.imread(\"C:\\\\Users\\\\aedpu\\\\OneDrive\\\\Documents\\\\Untitled Folder\\\\1212.jpeg\")"
   ]
  },
  {
   "cell_type": "code",
   "execution_count": 19,
   "id": "2c65bc19-06bb-4a21-ae4a-27d3ca98c117",
   "metadata": {},
   "outputs": [],
   "source": [
    "color = cv2.bilateralFilter(img, 9, 200, 250)"
   ]
  },
  {
   "cell_type": "code",
   "execution_count": 20,
   "id": "607533ba-d9ff-405f-8220-d798463b7e5b",
   "metadata": {},
   "outputs": [],
   "source": [
    "gray = cv2.cvtColor(img, cv2.COLOR_BGR2GRAY)\n",
    "gray = cv2.medianBlur(gray, 5)"
   ]
  },
  {
   "cell_type": "code",
   "execution_count": 21,
   "id": "2ea1899c-7fb2-47f0-8f51-1a8f4bdec73d",
   "metadata": {},
   "outputs": [],
   "source": [
    "edges = cv2.adaptiveThreshold(gray, 250, cv2.ADAPTIVE_THRESH_MEAN_C, cv2.THRESH_BINARY, 9, 9)"
   ]
  },
  {
   "cell_type": "code",
   "execution_count": 22,
   "id": "1d7b2e8d-b862-47af-a5bf-3197ba366ffd",
   "metadata": {},
   "outputs": [],
   "source": [
    "cartoon = cv2.bitwise_and(color, color,mask=edges)"
   ]
  },
  {
   "cell_type": "code",
   "execution_count": 23,
   "id": "7a0e12ad-6a59-4856-89e5-cdf2ba11cad0",
   "metadata": {},
   "outputs": [],
   "source": [
    "cv2.imshow(\"cartoon\",cartoon)\n",
    "cv2.imshow(\"Orginal\",img)\n",
    "cv2.waitKey(0)\n",
    "cv2.destroyAllWindows()"
   ]
  },
  {
   "cell_type": "code",
   "execution_count": null,
   "id": "739b04bc-6ade-42fe-9a15-55aed39e6be3",
   "metadata": {},
   "outputs": [],
   "source": []
  },
  {
   "cell_type": "code",
   "execution_count": null,
   "id": "d6966c3f-995a-4e4c-b74d-c4f6f5b3905a",
   "metadata": {},
   "outputs": [],
   "source": []
  },
  {
   "cell_type": "code",
   "execution_count": null,
   "id": "4e44e7e9-4182-43ca-ba06-1519f3c88692",
   "metadata": {},
   "outputs": [],
   "source": []
  },
  {
   "cell_type": "code",
   "execution_count": null,
   "id": "22a1fcd8-952a-40d2-ae72-708769f5f0b6",
   "metadata": {},
   "outputs": [],
   "source": []
  },
  {
   "cell_type": "code",
   "execution_count": null,
   "id": "82129011-256a-46a2-ac62-afcb98a35c9a",
   "metadata": {},
   "outputs": [],
   "source": []
  },
  {
   "cell_type": "code",
   "execution_count": null,
   "id": "f0c3f888-2ed9-4a0d-81cf-06ee08994309",
   "metadata": {},
   "outputs": [],
   "source": []
  },
  {
   "cell_type": "code",
   "execution_count": null,
   "id": "d615354c-c19f-4897-a3d8-76b5a35f218b",
   "metadata": {},
   "outputs": [],
   "source": []
  },
  {
   "cell_type": "code",
   "execution_count": null,
   "id": "c7c4d878-e687-423d-86e9-83c072401806",
   "metadata": {},
   "outputs": [],
   "source": []
  },
  {
   "cell_type": "code",
   "execution_count": null,
   "id": "456c160c-646d-4727-bbae-99dece349828",
   "metadata": {},
   "outputs": [],
   "source": []
  }
 ],
 "metadata": {
  "kernelspec": {
   "display_name": "Python 3 (ipykernel)",
   "language": "python",
   "name": "python3"
  },
  "language_info": {
   "codemirror_mode": {
    "name": "ipython",
    "version": 3
   },
   "file_extension": ".py",
   "mimetype": "text/x-python",
   "name": "python",
   "nbconvert_exporter": "python",
   "pygments_lexer": "ipython3",
   "version": "3.9.19"
  }
 },
 "nbformat": 4,
 "nbformat_minor": 5
}
